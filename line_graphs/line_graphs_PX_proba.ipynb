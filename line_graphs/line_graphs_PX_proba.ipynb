{
 "cells": [
  {
   "cell_type": "code",
   "execution_count": 1,
   "metadata": {},
   "outputs": [
    {
     "name": "stdout",
     "output_type": "stream",
     "text": [
      "Время построения линейного графика PX = 1.9 секунд\n"
     ]
    },
    {
     "data": {
      "text/html": [
       "\n",
       "        <iframe\n",
       "            width=\"100%\"\n",
       "            height=\"650\"\n",
       "            src=\"http://127.0.0.1:8050/\"\n",
       "            frameborder=\"0\"\n",
       "            allowfullscreen\n",
       "            \n",
       "        ></iframe>\n",
       "        "
      ],
      "text/plain": [
       "<IPython.lib.display.IFrame at 0x15745f19610>"
      ]
     },
     "metadata": {},
     "output_type": "display_data"
    }
   ],
   "source": [
    "# -*- coding: utf-8 -*-\n",
    "from dash import Dash, html, dcc\n",
    "import pandas as pd\n",
    "import plotly.express as px\n",
    "import time\n",
    "\n",
    "\n",
    "df = pd.read_csv('data_mun_demography_123_v20240612.csv', sep=';')\n",
    "df.head()\n",
    "\n",
    "a = df['year']\n",
    "b = df['population']\n",
    "c = df['deaths']\n",
    "d = df['births']\n",
    "e = df['migration']\n",
    "\n",
    "app = Dash()\n",
    "start_time = time.time()\n",
    "app.layout = [\n",
    "    html.Div(children='Линейный график популяции и миграции населения РФ 2010-2022 год'),\n",
    "    dcc.Graph(figure=px.line(x=a,\n",
    "                         y=b,\n",
    "                     #     mode='lines+markers',\n",
    "                     #     name='Популяция',\n",
    "                     #     marker=dict(color=2,\n",
    "                     #                 colorbar=dict(title=\"Популяция\", ),\n",
    "                     #                 colorscale='Inferno', ),\n",
    "                         ))]\n",
    "# fig = go.Figure()\n",
    "# fig.add_trace(go.Scatter(x=a,\n",
    "#                          y=b,\n",
    "#                          mode='lines+markers',\n",
    "#                          name='Популяция',\n",
    "#                          marker=dict(color=2,\n",
    "#                                      colorbar=dict(title=\"Популяция\", ),\n",
    "#                                      colorscale='Inferno', ),\n",
    "#                          )\n",
    "#               )\n",
    "# fig.add_trace(go.Scatter(x=a,\n",
    "#                          y=e,\n",
    "#                          mode='lines+markers',\n",
    "#                          name='Миграция', ),\n",
    "#               )\n",
    "# fig.update_layout(title='Линейный график популяции и миграции населения РФ 2010-2022 год')\n",
    "# fig.update_layout(xaxis_title=a.name,\n",
    "#                   yaxis_title=b.name + ' ' + e.name + '(млн. чел.)',\n",
    "#                   title={'font': dict(size=25),\n",
    "#                          'x': 0.5, },\n",
    "#                   legend_orientation=\"h\",\n",
    "#                   hovermode='x',\n",
    "#                   )\n",
    "# fig.update_layout(margin=dict(l=0, r=0, t=50, b=0))\n",
    "# fig.update_traces(hoverinfo=\"all\",\n",
    "#                   hovertemplate=\"Год: %{x}<br>Численность: %{y}\",\n",
    "#                   )\n",
    "stop_time = time.time()\n",
    "result_time = round(stop_time - start_time, 2)\n",
    "print(f'Время построения линейного графика PX = {result_time} секунд')\n",
    "\n",
    "if __name__ == '__main__':\n",
    "    app.run(debug=True)\n",
    "# fig.show()\n"
   ]
  }
 ],
 "metadata": {
  "anaconda-cloud": {},
  "kernelspec": {
   "display_name": "Python 3",
   "language": "python",
   "name": "python3"
  },
  "language_info": {
   "codemirror_mode": {
    "name": "ipython",
    "version": 3
   },
   "file_extension": ".py",
   "mimetype": "text/x-python",
   "name": "python",
   "nbconvert_exporter": "python",
   "pygments_lexer": "ipython3",
   "version": "3.12.2"
  }
 },
 "nbformat": 4,
 "nbformat_minor": 4
}
