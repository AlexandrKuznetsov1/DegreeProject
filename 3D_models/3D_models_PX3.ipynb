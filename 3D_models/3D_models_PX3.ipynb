{
 "cells": [
  {
   "cell_type": "code",
   "execution_count": 2,
   "metadata": {},
   "outputs": [
    {
     "data": {
      "application/vnd.plotly.v1+json": {
       "config": {
        "plotlyServerURL": "https://plot.ly"
       },
       "data": [
        {
         "marker": {
          "color": [
           0,
           0.20202020202020202,
           0.40404040404040403,
           0.6060606060606061,
           0.8080808080808081,
           1.0101010101010102,
           1.2121212121212122,
           1.4141414141414141,
           1.6161616161616161,
           1.8181818181818181,
           2.0202020202020203,
           2.2222222222222223,
           2.4242424242424243,
           2.6262626262626263,
           2.8282828282828283,
           3.0303030303030303,
           3.2323232323232323,
           3.4343434343434343,
           3.6363636363636362,
           3.8383838383838382,
           4.040404040404041,
           4.242424242424242,
           4.444444444444445,
           4.646464646464646,
           4.848484848484849,
           5.05050505050505,
           5.252525252525253,
           5.454545454545454,
           5.656565656565657,
           5.858585858585858,
           6.0606060606060606,
           6.262626262626262,
           6.4646464646464645,
           6.666666666666667,
           6.8686868686868685,
           7.070707070707071,
           7.2727272727272725,
           7.474747474747475,
           7.6767676767676765,
           7.878787878787879,
           8.080808080808081,
           8.282828282828282,
           8.484848484848484,
           8.686868686868687,
           8.88888888888889,
           9.09090909090909,
           9.292929292929292,
           9.494949494949495,
           9.696969696969697,
           9.8989898989899,
           10.1010101010101,
           10.303030303030303,
           10.505050505050505,
           10.707070707070708,
           10.909090909090908,
           11.11111111111111,
           11.313131313131313,
           11.515151515151516,
           11.717171717171716,
           11.919191919191919,
           12.121212121212121,
           12.323232323232324,
           12.525252525252524,
           12.727272727272727,
           12.929292929292929,
           13.131313131313131,
           13.333333333333334,
           13.535353535353535,
           13.737373737373737,
           13.93939393939394,
           14.141414141414142,
           14.343434343434343,
           14.545454545454545,
           14.747474747474747,
           14.94949494949495,
           15.15151515151515,
           15.353535353535353,
           15.555555555555555,
           15.757575757575758,
           15.959595959595958,
           16.161616161616163,
           16.363636363636363,
           16.565656565656564,
           16.767676767676768,
           16.96969696969697,
           17.171717171717173,
           17.373737373737374,
           17.575757575757574,
           17.77777777777778,
           17.97979797979798,
           18.18181818181818,
           18.383838383838384,
           18.585858585858585,
           18.78787878787879,
           18.98989898989899,
           19.19191919191919,
           19.393939393939394,
           19.595959595959595,
           19.7979797979798,
           20
          ],
          "colorscale": [
           [
            0,
            "#440154"
           ],
           [
            0.1111111111111111,
            "#482878"
           ],
           [
            0.2222222222222222,
            "#3e4989"
           ],
           [
            0.3333333333333333,
            "#31688e"
           ],
           [
            0.4444444444444444,
            "#26828e"
           ],
           [
            0.5555555555555556,
            "#1f9e89"
           ],
           [
            0.6666666666666666,
            "#35b779"
           ],
           [
            0.7777777777777778,
            "#6ece58"
           ],
           [
            0.8888888888888888,
            "#b5de2b"
           ],
           [
            1,
            "#fde725"
           ]
          ],
          "opacity": 0.8,
          "size": 12
         },
         "mode": "markers",
         "type": "scatter3d",
         "x": [
          1,
          0.9796632259996998,
          0.9194800727522776,
          0.82189840263017,
          0.6908872083770674,
          0.5317751800910392,
          0.3510339684920502,
          0.15601495992575853,
          -0.04534973060188524,
          -0.24486988668507892,
          -0.43443031567828566,
          -0.6063209223738354,
          -0.7535503059294446,
          -0.8701301249459654,
          -0.9513186645587279,
          -0.993813698804694,
          -0.9958868038686729,
          -0.9574536592123347,
          -0.8800774771896732,
          -0.7669054216542901,
          -0.6225406016393301,
          -0.45285484658127084,
          -0.2647498781834829,
          -0.06587659290724678,
          0.13567612713271912,
          0.33171041770321597,
          0.5142528686769626,
          0.6758788309121296,
          0.810014403075603,
          0.9112038155344026,
          0.9753313358637337,
          0.9997886702873213,
          0.983581052239521,
          0.9273677030509753,
          0.8334350190781794,
          0.7056035758515253,
          0.5490727317130796,
          0.3702091514654802,
          0.17628785152548898,
          -0.02480370080544784,
          -0.22488639862108173,
          -0.41582216870771727,
          -0.5898449758557073,
          -0.7398766950653171,
          -0.859815004003662,
          -0.9447815861050266,
          -0.9913205490138658,
          -0.9975389879884077,
          -0.9631839770525324,
          -0.8896528563926016,
          -0.779936397574316,
          -0.638497158251875,
          -0.4710879741150293,
          -0.2845179706505102,
          -0.08637561184970585,
          0.11527994954575044,
          0.3122466663798508,
          0.4965132034409228,
          0.6605847868889071,
          0.7977880432989004,
          0.9025424294354707,
          0.9705872127458185,
          0.9991547704697801,
          0.9870831586770104,
          0.9348633726492066,
          0.8446193763599521,
          0.7200217133240836,
          0.5661382125698547,
          0.38922786205169047,
          0.19648623340319554,
          -0.004247187491081489,
          -0.20480786020107072,
          -0.3970382705782732,
          -0.5731197257990347,
          -0.7258903683424182,
          -0.8491364741458517,
          -0.9378451868090543,
          -0.9884084082494465,
          -0.9987695528527076,
          -0.9685071961064762,
          -0.8988522154304799,
          -0.7926377260247273,
          -0.6541838480224215,
          -0.48912199187635547,
          -0.30416580891556017,
          -0.106838123325693,
          0.09483504780155239,
          0.29265094105990214,
          0.47856368221963436,
          0.645011540479259,
          0.7852244908862596,
          0.8934995752719529,
          0.9654328617943044,
          0.9980985684711091,
          0.9901680651138731,
          0.9419639134315667,
          0.8554467473014667,
          0.7341355268330447,
          0.5829644097750302,
          0.408082061813392
         ],
         "y": [
          0,
          0.2006488565226854,
          0.3931366121483298,
          0.5696341069089657,
          0.7229625614794605,
          0.8468855636029834,
          0.9363627251042848,
          0.9877546923600838,
          0.9989711717233568,
          0.9695559491823237,
          0.9007054462029555,
          0.7952200570230491,
          0.6573902466827755,
          0.4928220425889235,
          0.30820901749007684,
          0.11106003812412972,
          -0.09060614703340773,
          -0.28858705872043244,
          -0.47483011082223947,
          -0.6417601376193878,
          -0.7825875026542022,
          -0.8915842573351402,
          -0.9643171169287782,
          -0.9978277779792126,
          -0.9907532430056771,
          -0.9433812584459996,
          -0.8576386109880517,
          -0.7370127583189133,
          -0.586409981847235,
          -0.4119558308308628,
          -0.22074597455506334,
          -0.020557596287260064,
          0.18046693235991093,
          0.37415123057121996,
          0.5526174707464059,
          0.7086067976992182,
          0.8357745720522589,
          0.9289484292312513,
          0.9843386578838236,
          0.9996923408861117,
          0.9743849894755358,
          0.9094459434244625,
          0.8075165041395626,
          0.6727425035622647,
          0.510605678474283,
          0.32770070881349983,
          0.13146698864295842,
          -0.07011396040064677,
          -0.26884312591038406,
          -0.45663748763377376,
          -0.6258587825850161,
          -0.769624180301191,
          -0.8820862319774624,
          -0.9586707069567294,
          -0.9962626429198221,
          -0.9933330424549106,
          -0.9500010628071266,
          -0.8680291693306353,
          -0.7507514497694541,
          -0.6029380050795535,
          -0.43060093249866344,
          -0.2407497922206855,
          -0.04110650371268662,
          0.1602087321472088,
          0.3550077104499993,
          0.5353672656012185,
          0.6939515345770562,
          0.8243103325011825,
          0.9211415045489321,
          0.9805065833960652,
          0.9999909806585335,
          0.9788021967690197,
          0.9178020547461276,
          0.8194716467944692,
          0.6878104194817845,
          0.5281735020569958,
          0.3470538943436452,
          0.15181837339991294,
          -0.04959213944167377,
          -0.24898556401922536,
          -0.43825186230718777,
          -0.609692902437243,
          -0.7563355690343919,
          -0.8722153845598611,
          -0.9526191057745708,
          -0.9942764280642703,
          -0.9954930003312314,
          -0.9562193402649591,
          -0.8780528469633162,
          -0.7641728290436485,
          -0.6192111908811196,
          -0.4490640366237758,
          -0.26065185471747443,
          -0.06163803708687286,
          0.13988281820384094,
          0.3357141429738816,
          0.5178907824351968,
          0.6790029662980626,
          0.8124976904186563,
          0.9129452507276277
         ],
         "z": [
          0,
          0.20202020202020202,
          0.40404040404040403,
          0.6060606060606061,
          0.8080808080808081,
          1.0101010101010102,
          1.2121212121212122,
          1.4141414141414141,
          1.6161616161616161,
          1.8181818181818181,
          2.0202020202020203,
          2.2222222222222223,
          2.4242424242424243,
          2.6262626262626263,
          2.8282828282828283,
          3.0303030303030303,
          3.2323232323232323,
          3.4343434343434343,
          3.6363636363636362,
          3.8383838383838382,
          4.040404040404041,
          4.242424242424242,
          4.444444444444445,
          4.646464646464646,
          4.848484848484849,
          5.05050505050505,
          5.252525252525253,
          5.454545454545454,
          5.656565656565657,
          5.858585858585858,
          6.0606060606060606,
          6.262626262626262,
          6.4646464646464645,
          6.666666666666667,
          6.8686868686868685,
          7.070707070707071,
          7.2727272727272725,
          7.474747474747475,
          7.6767676767676765,
          7.878787878787879,
          8.080808080808081,
          8.282828282828282,
          8.484848484848484,
          8.686868686868687,
          8.88888888888889,
          9.09090909090909,
          9.292929292929292,
          9.494949494949495,
          9.696969696969697,
          9.8989898989899,
          10.1010101010101,
          10.303030303030303,
          10.505050505050505,
          10.707070707070708,
          10.909090909090908,
          11.11111111111111,
          11.313131313131313,
          11.515151515151516,
          11.717171717171716,
          11.919191919191919,
          12.121212121212121,
          12.323232323232324,
          12.525252525252524,
          12.727272727272727,
          12.929292929292929,
          13.131313131313131,
          13.333333333333334,
          13.535353535353535,
          13.737373737373737,
          13.93939393939394,
          14.141414141414142,
          14.343434343434343,
          14.545454545454545,
          14.747474747474747,
          14.94949494949495,
          15.15151515151515,
          15.353535353535353,
          15.555555555555555,
          15.757575757575758,
          15.959595959595958,
          16.161616161616163,
          16.363636363636363,
          16.565656565656564,
          16.767676767676768,
          16.96969696969697,
          17.171717171717173,
          17.373737373737374,
          17.575757575757574,
          17.77777777777778,
          17.97979797979798,
          18.18181818181818,
          18.383838383838384,
          18.585858585858585,
          18.78787878787879,
          18.98989898989899,
          19.19191919191919,
          19.393939393939394,
          19.595959595959595,
          19.7979797979798,
          20
         ]
        }
       ],
       "layout": {
        "autosize": true,
        "margin": {
         "b": 0,
         "l": 0,
         "r": 0,
         "t": 0
        },
        "scene": {
         "aspectmode": "auto",
         "aspectratio": {
          "x": 1,
          "y": 1,
          "z": 1
         },
         "camera": {
          "center": {
           "x": 0,
           "y": 0,
           "z": 0
          },
          "eye": {
           "x": 0.8081796907527946,
           "y": 0.8081796907527944,
           "z": 0.8081796907527946
          },
          "projection": {
           "type": "perspective"
          },
          "up": {
           "x": 0,
           "y": 0,
           "z": 1
          }
         }
        },
        "template": {
         "data": {
          "bar": [
           {
            "error_x": {
             "color": "#2a3f5f"
            },
            "error_y": {
             "color": "#2a3f5f"
            },
            "marker": {
             "line": {
              "color": "#E5ECF6",
              "width": 0.5
             },
             "pattern": {
              "fillmode": "overlay",
              "size": 10,
              "solidity": 0.2
             }
            },
            "type": "bar"
           }
          ],
          "barpolar": [
           {
            "marker": {
             "line": {
              "color": "#E5ECF6",
              "width": 0.5
             },
             "pattern": {
              "fillmode": "overlay",
              "size": 10,
              "solidity": 0.2
             }
            },
            "type": "barpolar"
           }
          ],
          "carpet": [
           {
            "aaxis": {
             "endlinecolor": "#2a3f5f",
             "gridcolor": "white",
             "linecolor": "white",
             "minorgridcolor": "white",
             "startlinecolor": "#2a3f5f"
            },
            "baxis": {
             "endlinecolor": "#2a3f5f",
             "gridcolor": "white",
             "linecolor": "white",
             "minorgridcolor": "white",
             "startlinecolor": "#2a3f5f"
            },
            "type": "carpet"
           }
          ],
          "choropleth": [
           {
            "colorbar": {
             "outlinewidth": 0,
             "ticks": ""
            },
            "type": "choropleth"
           }
          ],
          "contour": [
           {
            "colorbar": {
             "outlinewidth": 0,
             "ticks": ""
            },
            "colorscale": [
             [
              0,
              "#0d0887"
             ],
             [
              0.1111111111111111,
              "#46039f"
             ],
             [
              0.2222222222222222,
              "#7201a8"
             ],
             [
              0.3333333333333333,
              "#9c179e"
             ],
             [
              0.4444444444444444,
              "#bd3786"
             ],
             [
              0.5555555555555556,
              "#d8576b"
             ],
             [
              0.6666666666666666,
              "#ed7953"
             ],
             [
              0.7777777777777778,
              "#fb9f3a"
             ],
             [
              0.8888888888888888,
              "#fdca26"
             ],
             [
              1,
              "#f0f921"
             ]
            ],
            "type": "contour"
           }
          ],
          "contourcarpet": [
           {
            "colorbar": {
             "outlinewidth": 0,
             "ticks": ""
            },
            "type": "contourcarpet"
           }
          ],
          "heatmap": [
           {
            "colorbar": {
             "outlinewidth": 0,
             "ticks": ""
            },
            "colorscale": [
             [
              0,
              "#0d0887"
             ],
             [
              0.1111111111111111,
              "#46039f"
             ],
             [
              0.2222222222222222,
              "#7201a8"
             ],
             [
              0.3333333333333333,
              "#9c179e"
             ],
             [
              0.4444444444444444,
              "#bd3786"
             ],
             [
              0.5555555555555556,
              "#d8576b"
             ],
             [
              0.6666666666666666,
              "#ed7953"
             ],
             [
              0.7777777777777778,
              "#fb9f3a"
             ],
             [
              0.8888888888888888,
              "#fdca26"
             ],
             [
              1,
              "#f0f921"
             ]
            ],
            "type": "heatmap"
           }
          ],
          "heatmapgl": [
           {
            "colorbar": {
             "outlinewidth": 0,
             "ticks": ""
            },
            "colorscale": [
             [
              0,
              "#0d0887"
             ],
             [
              0.1111111111111111,
              "#46039f"
             ],
             [
              0.2222222222222222,
              "#7201a8"
             ],
             [
              0.3333333333333333,
              "#9c179e"
             ],
             [
              0.4444444444444444,
              "#bd3786"
             ],
             [
              0.5555555555555556,
              "#d8576b"
             ],
             [
              0.6666666666666666,
              "#ed7953"
             ],
             [
              0.7777777777777778,
              "#fb9f3a"
             ],
             [
              0.8888888888888888,
              "#fdca26"
             ],
             [
              1,
              "#f0f921"
             ]
            ],
            "type": "heatmapgl"
           }
          ],
          "histogram": [
           {
            "marker": {
             "pattern": {
              "fillmode": "overlay",
              "size": 10,
              "solidity": 0.2
             }
            },
            "type": "histogram"
           }
          ],
          "histogram2d": [
           {
            "colorbar": {
             "outlinewidth": 0,
             "ticks": ""
            },
            "colorscale": [
             [
              0,
              "#0d0887"
             ],
             [
              0.1111111111111111,
              "#46039f"
             ],
             [
              0.2222222222222222,
              "#7201a8"
             ],
             [
              0.3333333333333333,
              "#9c179e"
             ],
             [
              0.4444444444444444,
              "#bd3786"
             ],
             [
              0.5555555555555556,
              "#d8576b"
             ],
             [
              0.6666666666666666,
              "#ed7953"
             ],
             [
              0.7777777777777778,
              "#fb9f3a"
             ],
             [
              0.8888888888888888,
              "#fdca26"
             ],
             [
              1,
              "#f0f921"
             ]
            ],
            "type": "histogram2d"
           }
          ],
          "histogram2dcontour": [
           {
            "colorbar": {
             "outlinewidth": 0,
             "ticks": ""
            },
            "colorscale": [
             [
              0,
              "#0d0887"
             ],
             [
              0.1111111111111111,
              "#46039f"
             ],
             [
              0.2222222222222222,
              "#7201a8"
             ],
             [
              0.3333333333333333,
              "#9c179e"
             ],
             [
              0.4444444444444444,
              "#bd3786"
             ],
             [
              0.5555555555555556,
              "#d8576b"
             ],
             [
              0.6666666666666666,
              "#ed7953"
             ],
             [
              0.7777777777777778,
              "#fb9f3a"
             ],
             [
              0.8888888888888888,
              "#fdca26"
             ],
             [
              1,
              "#f0f921"
             ]
            ],
            "type": "histogram2dcontour"
           }
          ],
          "mesh3d": [
           {
            "colorbar": {
             "outlinewidth": 0,
             "ticks": ""
            },
            "type": "mesh3d"
           }
          ],
          "parcoords": [
           {
            "line": {
             "colorbar": {
              "outlinewidth": 0,
              "ticks": ""
             }
            },
            "type": "parcoords"
           }
          ],
          "pie": [
           {
            "automargin": true,
            "type": "pie"
           }
          ],
          "scatter": [
           {
            "fillpattern": {
             "fillmode": "overlay",
             "size": 10,
             "solidity": 0.2
            },
            "type": "scatter"
           }
          ],
          "scatter3d": [
           {
            "line": {
             "colorbar": {
              "outlinewidth": 0,
              "ticks": ""
             }
            },
            "marker": {
             "colorbar": {
              "outlinewidth": 0,
              "ticks": ""
             }
            },
            "type": "scatter3d"
           }
          ],
          "scattercarpet": [
           {
            "marker": {
             "colorbar": {
              "outlinewidth": 0,
              "ticks": ""
             }
            },
            "type": "scattercarpet"
           }
          ],
          "scattergeo": [
           {
            "marker": {
             "colorbar": {
              "outlinewidth": 0,
              "ticks": ""
             }
            },
            "type": "scattergeo"
           }
          ],
          "scattergl": [
           {
            "marker": {
             "colorbar": {
              "outlinewidth": 0,
              "ticks": ""
             }
            },
            "type": "scattergl"
           }
          ],
          "scattermapbox": [
           {
            "marker": {
             "colorbar": {
              "outlinewidth": 0,
              "ticks": ""
             }
            },
            "type": "scattermapbox"
           }
          ],
          "scatterpolar": [
           {
            "marker": {
             "colorbar": {
              "outlinewidth": 0,
              "ticks": ""
             }
            },
            "type": "scatterpolar"
           }
          ],
          "scatterpolargl": [
           {
            "marker": {
             "colorbar": {
              "outlinewidth": 0,
              "ticks": ""
             }
            },
            "type": "scatterpolargl"
           }
          ],
          "scatterternary": [
           {
            "marker": {
             "colorbar": {
              "outlinewidth": 0,
              "ticks": ""
             }
            },
            "type": "scatterternary"
           }
          ],
          "surface": [
           {
            "colorbar": {
             "outlinewidth": 0,
             "ticks": ""
            },
            "colorscale": [
             [
              0,
              "#0d0887"
             ],
             [
              0.1111111111111111,
              "#46039f"
             ],
             [
              0.2222222222222222,
              "#7201a8"
             ],
             [
              0.3333333333333333,
              "#9c179e"
             ],
             [
              0.4444444444444444,
              "#bd3786"
             ],
             [
              0.5555555555555556,
              "#d8576b"
             ],
             [
              0.6666666666666666,
              "#ed7953"
             ],
             [
              0.7777777777777778,
              "#fb9f3a"
             ],
             [
              0.8888888888888888,
              "#fdca26"
             ],
             [
              1,
              "#f0f921"
             ]
            ],
            "type": "surface"
           }
          ],
          "table": [
           {
            "cells": {
             "fill": {
              "color": "#EBF0F8"
             },
             "line": {
              "color": "white"
             }
            },
            "header": {
             "fill": {
              "color": "#C8D4E3"
             },
             "line": {
              "color": "white"
             }
            },
            "type": "table"
           }
          ]
         },
         "layout": {
          "annotationdefaults": {
           "arrowcolor": "#2a3f5f",
           "arrowhead": 0,
           "arrowwidth": 1
          },
          "autotypenumbers": "strict",
          "coloraxis": {
           "colorbar": {
            "outlinewidth": 0,
            "ticks": ""
           }
          },
          "colorscale": {
           "diverging": [
            [
             0,
             "#8e0152"
            ],
            [
             0.1,
             "#c51b7d"
            ],
            [
             0.2,
             "#de77ae"
            ],
            [
             0.3,
             "#f1b6da"
            ],
            [
             0.4,
             "#fde0ef"
            ],
            [
             0.5,
             "#f7f7f7"
            ],
            [
             0.6,
             "#e6f5d0"
            ],
            [
             0.7,
             "#b8e186"
            ],
            [
             0.8,
             "#7fbc41"
            ],
            [
             0.9,
             "#4d9221"
            ],
            [
             1,
             "#276419"
            ]
           ],
           "sequential": [
            [
             0,
             "#0d0887"
            ],
            [
             0.1111111111111111,
             "#46039f"
            ],
            [
             0.2222222222222222,
             "#7201a8"
            ],
            [
             0.3333333333333333,
             "#9c179e"
            ],
            [
             0.4444444444444444,
             "#bd3786"
            ],
            [
             0.5555555555555556,
             "#d8576b"
            ],
            [
             0.6666666666666666,
             "#ed7953"
            ],
            [
             0.7777777777777778,
             "#fb9f3a"
            ],
            [
             0.8888888888888888,
             "#fdca26"
            ],
            [
             1,
             "#f0f921"
            ]
           ],
           "sequentialminus": [
            [
             0,
             "#0d0887"
            ],
            [
             0.1111111111111111,
             "#46039f"
            ],
            [
             0.2222222222222222,
             "#7201a8"
            ],
            [
             0.3333333333333333,
             "#9c179e"
            ],
            [
             0.4444444444444444,
             "#bd3786"
            ],
            [
             0.5555555555555556,
             "#d8576b"
            ],
            [
             0.6666666666666666,
             "#ed7953"
            ],
            [
             0.7777777777777778,
             "#fb9f3a"
            ],
            [
             0.8888888888888888,
             "#fdca26"
            ],
            [
             1,
             "#f0f921"
            ]
           ]
          },
          "colorway": [
           "#636efa",
           "#EF553B",
           "#00cc96",
           "#ab63fa",
           "#FFA15A",
           "#19d3f3",
           "#FF6692",
           "#B6E880",
           "#FF97FF",
           "#FECB52"
          ],
          "font": {
           "color": "#2a3f5f"
          },
          "geo": {
           "bgcolor": "white",
           "lakecolor": "white",
           "landcolor": "#E5ECF6",
           "showlakes": true,
           "showland": true,
           "subunitcolor": "white"
          },
          "hoverlabel": {
           "align": "left"
          },
          "hovermode": "closest",
          "mapbox": {
           "style": "light"
          },
          "paper_bgcolor": "white",
          "plot_bgcolor": "#E5ECF6",
          "polar": {
           "angularaxis": {
            "gridcolor": "white",
            "linecolor": "white",
            "ticks": ""
           },
           "bgcolor": "#E5ECF6",
           "radialaxis": {
            "gridcolor": "white",
            "linecolor": "white",
            "ticks": ""
           }
          },
          "scene": {
           "xaxis": {
            "backgroundcolor": "#E5ECF6",
            "gridcolor": "white",
            "gridwidth": 2,
            "linecolor": "white",
            "showbackground": true,
            "ticks": "",
            "zerolinecolor": "white"
           },
           "yaxis": {
            "backgroundcolor": "#E5ECF6",
            "gridcolor": "white",
            "gridwidth": 2,
            "linecolor": "white",
            "showbackground": true,
            "ticks": "",
            "zerolinecolor": "white"
           },
           "zaxis": {
            "backgroundcolor": "#E5ECF6",
            "gridcolor": "white",
            "gridwidth": 2,
            "linecolor": "white",
            "showbackground": true,
            "ticks": "",
            "zerolinecolor": "white"
           }
          },
          "shapedefaults": {
           "line": {
            "color": "#2a3f5f"
           }
          },
          "ternary": {
           "aaxis": {
            "gridcolor": "white",
            "linecolor": "white",
            "ticks": ""
           },
           "baxis": {
            "gridcolor": "white",
            "linecolor": "white",
            "ticks": ""
           },
           "bgcolor": "#E5ECF6",
           "caxis": {
            "gridcolor": "white",
            "linecolor": "white",
            "ticks": ""
           }
          },
          "title": {
           "x": 0.05
          },
          "xaxis": {
           "automargin": true,
           "gridcolor": "white",
           "linecolor": "white",
           "ticks": "",
           "title": {
            "standoff": 15
           },
           "zerolinecolor": "white",
           "zerolinewidth": 2
          },
          "yaxis": {
           "automargin": true,
           "gridcolor": "white",
           "linecolor": "white",
           "ticks": "",
           "title": {
            "standoff": 15
           },
           "zerolinecolor": "white",
           "zerolinewidth": 2
          }
         }
        },
        "title": {
         "text": "3D-модель формулы спирали PX"
        }
       }
      },
      "image/png": "[encoded data removed]",
      "text/html": [
       "<div>                            <div id=\"ec30ca29-ce2d-4742-90f3-5c58a20574a7\" class=\"plotly-graph-div\" style=\"height:525px; width:100%;\"></div>            <script type=\"text/javascript\">                require([\"plotly\"], function(Plotly) {                    window.PLOTLYENV=window.PLOTLYENV || {};                                    if (document.getElementById(\"ec30ca29-ce2d-4742-90f3-5c58a20574a7\")) {                    Plotly.newPlot(                        \"ec30ca29-ce2d-4742-90f3-5c58a20574a7\",                        [{\"marker\":{\"color\":[0.0,0.20202020202020202,0.40404040404040403,0.6060606060606061,0.8080808080808081,1.0101010101010102,1.2121212121212122,1.4141414141414141,1.6161616161616161,1.8181818181818181,2.0202020202020203,2.2222222222222223,2.4242424242424243,2.6262626262626263,2.8282828282828283,3.0303030303030303,3.2323232323232323,3.4343434343434343,3.6363636363636362,3.8383838383838382,4.040404040404041,4.242424242424242,4.444444444444445,4.646464646464646,4.848484848484849,5.05050505050505,5.252525252525253,5.454545454545454,5.656565656565657,5.858585858585858,6.0606060606060606,6.262626262626262,6.4646464646464645,6.666666666666667,6.8686868686868685,7.070707070707071,7.2727272727272725,7.474747474747475,7.6767676767676765,7.878787878787879,8.080808080808081,8.282828282828282,8.484848484848484,8.686868686868687,8.88888888888889,9.09090909090909,9.292929292929292,9.494949494949495,9.696969696969697,9.8989898989899,10.1010101010101,10.303030303030303,10.505050505050505,10.707070707070708,10.909090909090908,11.11111111111111,11.313131313131313,11.515151515151516,11.717171717171716,11.919191919191919,12.121212121212121,12.323232323232324,12.525252525252524,12.727272727272727,12.929292929292929,13.131313131313131,13.333333333333334,13.535353535353535,13.737373737373737,13.93939393939394,14.141414141414142,14.343434343434343,14.545454545454545,14.747474747474747,14.94949494949495,15.15151515151515,15.353535353535353,15.555555555555555,15.757575757575758,15.959595959595958,16.161616161616163,16.363636363636363,16.565656565656564,16.767676767676768,16.96969696969697,17.171717171717173,17.373737373737374,17.575757575757574,17.77777777777778,17.97979797979798,18.18181818181818,18.383838383838384,18.585858585858585,18.78787878787879,18.98989898989899,19.19191919191919,19.393939393939394,19.595959595959595,19.7979797979798,20.0],\"colorscale\":[[0.0,\"#440154\"],[0.1111111111111111,\"#482878\"],[0.2222222222222222,\"#3e4989\"],[0.3333333333333333,\"#31688e\"],[0.4444444444444444,\"#26828e\"],[0.5555555555555556,\"#1f9e89\"],[0.6666666666666666,\"#35b779\"],[0.7777777777777778,\"#6ece58\"],[0.8888888888888888,\"#b5de2b\"],[1.0,\"#fde725\"]],\"opacity\":0.8,\"size\":12},\"mode\":\"markers\",\"x\":[1.0,0.9796632259996998,0.9194800727522776,0.82189840263017,0.6908872083770674,0.5317751800910392,0.3510339684920502,0.15601495992575853,-0.04534973060188524,-0.24486988668507892,-0.43443031567828566,-0.6063209223738354,-0.7535503059294446,-0.8701301249459654,-0.9513186645587279,-0.993813698804694,-0.9958868038686729,-0.9574536592123347,-0.8800774771896732,-0.7669054216542901,-0.6225406016393301,-0.45285484658127084,-0.2647498781834829,-0.06587659290724678,0.13567612713271912,0.33171041770321597,0.5142528686769626,0.6758788309121296,0.810014403075603,0.9112038155344026,0.9753313358637337,0.9997886702873213,0.983581052239521,0.9273677030509753,0.8334350190781794,0.7056035758515253,0.5490727317130796,0.3702091514654802,0.17628785152548898,-0.02480370080544784,-0.22488639862108173,-0.41582216870771727,-0.5898449758557073,-0.7398766950653171,-0.859815004003662,-0.9447815861050266,-0.9913205490138658,-0.9975389879884077,-0.9631839770525324,-0.8896528563926016,-0.779936397574316,-0.638497158251875,-0.4710879741150293,-0.2845179706505102,-0.08637561184970585,0.11527994954575044,0.3122466663798508,0.4965132034409228,0.6605847868889071,0.7977880432989004,0.9025424294354707,0.9705872127458185,0.9991547704697801,0.9870831586770104,0.9348633726492066,0.8446193763599521,0.7200217133240836,0.5661382125698547,0.38922786205169047,0.19648623340319554,-0.004247187491081489,-0.20480786020107072,-0.3970382705782732,-0.5731197257990347,-0.7258903683424182,-0.8491364741458517,-0.9378451868090543,-0.9884084082494465,-0.9987695528527076,-0.9685071961064762,-0.8988522154304799,-0.7926377260247273,-0.6541838480224215,-0.48912199187635547,-0.30416580891556017,-0.106838123325693,0.09483504780155239,0.29265094105990214,0.47856368221963436,0.645011540479259,0.7852244908862596,0.8934995752719529,0.9654328617943044,0.9980985684711091,0.9901680651138731,0.9419639134315667,0.8554467473014667,0.7341355268330447,0.5829644097750302,0.408082061813392],\"y\":[0.0,0.2006488565226854,0.3931366121483298,0.5696341069089657,0.7229625614794605,0.8468855636029834,0.9363627251042848,0.9877546923600838,0.9989711717233568,0.9695559491823237,0.9007054462029555,0.7952200570230491,0.6573902466827755,0.4928220425889235,0.30820901749007684,0.11106003812412972,-0.09060614703340773,-0.28858705872043244,-0.47483011082223947,-0.6417601376193878,-0.7825875026542022,-0.8915842573351402,-0.9643171169287782,-0.9978277779792126,-0.9907532430056771,-0.9433812584459996,-0.8576386109880517,-0.7370127583189133,-0.586409981847235,-0.4119558308308628,-0.22074597455506334,-0.020557596287260064,0.18046693235991093,0.37415123057121996,0.5526174707464059,0.7086067976992182,0.8357745720522589,0.9289484292312513,0.9843386578838236,0.9996923408861117,0.9743849894755358,0.9094459434244625,0.8075165041395626,0.6727425035622647,0.510605678474283,0.32770070881349983,0.13146698864295842,-0.07011396040064677,-0.26884312591038406,-0.45663748763377376,-0.6258587825850161,-0.769624180301191,-0.8820862319774624,-0.9586707069567294,-0.9962626429198221,-0.9933330424549106,-0.9500010628071266,-0.8680291693306353,-0.7507514497694541,-0.6029380050795535,-0.43060093249866344,-0.2407497922206855,-0.04110650371268662,0.1602087321472088,0.3550077104499993,0.5353672656012185,0.6939515345770562,0.8243103325011825,0.9211415045489321,0.9805065833960652,0.9999909806585335,0.9788021967690197,0.9178020547461276,0.8194716467944692,0.6878104194817845,0.5281735020569958,0.3470538943436452,0.15181837339991294,-0.04959213944167377,-0.24898556401922536,-0.43825186230718777,-0.609692902437243,-0.7563355690343919,-0.8722153845598611,-0.9526191057745708,-0.9942764280642703,-0.9954930003312314,-0.9562193402649591,-0.8780528469633162,-0.7641728290436485,-0.6192111908811196,-0.4490640366237758,-0.26065185471747443,-0.06163803708687286,0.13988281820384094,0.3357141429738816,0.5178907824351968,0.6790029662980626,0.8124976904186563,0.9129452507276277],\"z\":[0.0,0.20202020202020202,0.40404040404040403,0.6060606060606061,0.8080808080808081,1.0101010101010102,1.2121212121212122,1.4141414141414141,1.6161616161616161,1.8181818181818181,2.0202020202020203,2.2222222222222223,2.4242424242424243,2.6262626262626263,2.8282828282828283,3.0303030303030303,3.2323232323232323,3.4343434343434343,3.6363636363636362,3.8383838383838382,4.040404040404041,4.242424242424242,4.444444444444445,4.646464646464646,4.848484848484849,5.05050505050505,5.252525252525253,5.454545454545454,5.656565656565657,5.858585858585858,6.0606060606060606,6.262626262626262,6.4646464646464645,6.666666666666667,6.8686868686868685,7.070707070707071,7.2727272727272725,7.474747474747475,7.6767676767676765,7.878787878787879,8.080808080808081,8.282828282828282,8.484848484848484,8.686868686868687,8.88888888888889,9.09090909090909,9.292929292929292,9.494949494949495,9.696969696969697,9.8989898989899,10.1010101010101,10.303030303030303,10.505050505050505,10.707070707070708,10.909090909090908,11.11111111111111,11.313131313131313,11.515151515151516,11.717171717171716,11.919191919191919,12.121212121212121,12.323232323232324,12.525252525252524,12.727272727272727,12.929292929292929,13.131313131313131,13.333333333333334,13.535353535353535,13.737373737373737,13.93939393939394,14.141414141414142,14.343434343434343,14.545454545454545,14.747474747474747,14.94949494949495,15.15151515151515,15.353535353535353,15.555555555555555,15.757575757575758,15.959595959595958,16.161616161616163,16.363636363636363,16.565656565656564,16.767676767676768,16.96969696969697,17.171717171717173,17.373737373737374,17.575757575757574,17.77777777777778,17.97979797979798,18.18181818181818,18.383838383838384,18.585858585858585,18.78787878787879,18.98989898989899,19.19191919191919,19.393939393939394,19.595959595959595,19.7979797979798,20.0],\"type\":\"scatter3d\"}],                        {\"template\":{\"data\":{\"histogram2dcontour\":[{\"type\":\"histogram2dcontour\",\"colorbar\":{\"outlinewidth\":0,\"ticks\":\"\"},\"colorscale\":[[0.0,\"#0d0887\"],[0.1111111111111111,\"#46039f\"],[0.2222222222222222,\"#7201a8\"],[0.3333333333333333,\"#9c179e\"],[0.4444444444444444,\"#bd3786\"],[0.5555555555555556,\"#d8576b\"],[0.6666666666666666,\"#ed7953\"],[0.7777777777777778,\"#fb9f3a\"],[0.8888888888888888,\"#fdca26\"],[1.0,\"#f0f921\"]]}],\"choropleth\":[{\"type\":\"choropleth\",\"colorbar\":{\"outlinewidth\":0,\"ticks\":\"\"}}],\"histogram2d\":[{\"type\":\"histogram2d\",\"colorbar\":{\"outlinewidth\":0,\"ticks\":\"\"},\"colorscale\":[[0.0,\"#0d0887\"],[0.1111111111111111,\"#46039f\"],[0.2222222222222222,\"#7201a8\"],[0.3333333333333333,\"#9c179e\"],[0.4444444444444444,\"#bd3786\"],[0.5555555555555556,\"#d8576b\"],[0.6666666666666666,\"#ed7953\"],[0.7777777777777778,\"#fb9f3a\"],[0.8888888888888888,\"#fdca26\"],[1.0,\"#f0f921\"]]}],\"heatmap\":[{\"type\":\"heatmap\",\"colorbar\":{\"outlinewidth\":0,\"ticks\":\"\"},\"colorscale\":[[0.0,\"#0d0887\"],[0.1111111111111111,\"#46039f\"],[0.2222222222222222,\"#7201a8\"],[0.3333333333333333,\"#9c179e\"],[0.4444444444444444,\"#bd3786\"],[0.5555555555555556,\"#d8576b\"],[0.6666666666666666,\"#ed7953\"],[0.7777777777777778,\"#fb9f3a\"],[0.8888888888888888,\"#fdca26\"],[1.0,\"#f0f921\"]]}],\"heatmapgl\":[{\"type\":\"heatmapgl\",\"colorbar\":{\"outlinewidth\":0,\"ticks\":\"\"},\"colorscale\":[[0.0,\"#0d0887\"],[0.1111111111111111,\"#46039f\"],[0.2222222222222222,\"#7201a8\"],[0.3333333333333333,\"#9c179e\"],[0.4444444444444444,\"#bd3786\"],[0.5555555555555556,\"#d8576b\"],[0.6666666666666666,\"#ed7953\"],[0.7777777777777778,\"#fb9f3a\"],[0.8888888888888888,\"#fdca26\"],[1.0,\"#f0f921\"]]}],\"contourcarpet\":[{\"type\":\"contourcarpet\",\"colorbar\":{\"outlinewidth\":0,\"ticks\":\"\"}}],\"contour\":[{\"type\":\"contour\",\"colorbar\":{\"outlinewidth\":0,\"ticks\":\"\"},\"colorscale\":[[0.0,\"#0d0887\"],[0.1111111111111111,\"#46039f\"],[0.2222222222222222,\"#7201a8\"],[0.3333333333333333,\"#9c179e\"],[0.4444444444444444,\"#bd3786\"],[0.5555555555555556,\"#d8576b\"],[0.6666666666666666,\"#ed7953\"],[0.7777777777777778,\"#fb9f3a\"],[0.8888888888888888,\"#fdca26\"],[1.0,\"#f0f921\"]]}],\"surface\":[{\"type\":\"surface\",\"colorbar\":{\"outlinewidth\":0,\"ticks\":\"\"},\"colorscale\":[[0.0,\"#0d0887\"],[0.1111111111111111,\"#46039f\"],[0.2222222222222222,\"#7201a8\"],[0.3333333333333333,\"#9c179e\"],[0.4444444444444444,\"#bd3786\"],[0.5555555555555556,\"#d8576b\"],[0.6666666666666666,\"#ed7953\"],[0.7777777777777778,\"#fb9f3a\"],[0.8888888888888888,\"#fdca26\"],[1.0,\"#f0f921\"]]}],\"mesh3d\":[{\"type\":\"mesh3d\",\"colorbar\":{\"outlinewidth\":0,\"ticks\":\"\"}}],\"scatter\":[{\"fillpattern\":{\"fillmode\":\"overlay\",\"size\":10,\"solidity\":0.2},\"type\":\"scatter\"}],\"parcoords\":[{\"type\":\"parcoords\",\"line\":{\"colorbar\":{\"outlinewidth\":0,\"ticks\":\"\"}}}],\"scatterpolargl\":[{\"type\":\"scatterpolargl\",\"marker\":{\"colorbar\":{\"outlinewidth\":0,\"ticks\":\"\"}}}],\"bar\":[{\"error_x\":{\"color\":\"#2a3f5f\"},\"error_y\":{\"color\":\"#2a3f5f\"},\"marker\":{\"line\":{\"color\":\"#E5ECF6\",\"width\":0.5},\"pattern\":{\"fillmode\":\"overlay\",\"size\":10,\"solidity\":0.2}},\"type\":\"bar\"}],\"scattergeo\":[{\"type\":\"scattergeo\",\"marker\":{\"colorbar\":{\"outlinewidth\":0,\"ticks\":\"\"}}}],\"scatterpolar\":[{\"type\":\"scatterpolar\",\"marker\":{\"colorbar\":{\"outlinewidth\":0,\"ticks\":\"\"}}}],\"histogram\":[{\"marker\":{\"pattern\":{\"fillmode\":\"overlay\",\"size\":10,\"solidity\":0.2}},\"type\":\"histogram\"}],\"scattergl\":[{\"type\":\"scattergl\",\"marker\":{\"colorbar\":{\"outlinewidth\":0,\"ticks\":\"\"}}}],\"scatter3d\":[{\"type\":\"scatter3d\",\"line\":{\"colorbar\":{\"outlinewidth\":0,\"ticks\":\"\"}},\"marker\":{\"colorbar\":{\"outlinewidth\":0,\"ticks\":\"\"}}}],\"scattermapbox\":[{\"type\":\"scattermapbox\",\"marker\":{\"colorbar\":{\"outlinewidth\":0,\"ticks\":\"\"}}}],\"scatterternary\":[{\"type\":\"scatterternary\",\"marker\":{\"colorbar\":{\"outlinewidth\":0,\"ticks\":\"\"}}}],\"scattercarpet\":[{\"type\":\"scattercarpet\",\"marker\":{\"colorbar\":{\"outlinewidth\":0,\"ticks\":\"\"}}}],\"carpet\":[{\"aaxis\":{\"endlinecolor\":\"#2a3f5f\",\"gridcolor\":\"white\",\"linecolor\":\"white\",\"minorgridcolor\":\"white\",\"startlinecolor\":\"#2a3f5f\"},\"baxis\":{\"endlinecolor\":\"#2a3f5f\",\"gridcolor\":\"white\",\"linecolor\":\"white\",\"minorgridcolor\":\"white\",\"startlinecolor\":\"#2a3f5f\"},\"type\":\"carpet\"}],\"table\":[{\"cells\":{\"fill\":{\"color\":\"#EBF0F8\"},\"line\":{\"color\":\"white\"}},\"header\":{\"fill\":{\"color\":\"#C8D4E3\"},\"line\":{\"color\":\"white\"}},\"type\":\"table\"}],\"barpolar\":[{\"marker\":{\"line\":{\"color\":\"#E5ECF6\",\"width\":0.5},\"pattern\":{\"fillmode\":\"overlay\",\"size\":10,\"solidity\":0.2}},\"type\":\"barpolar\"}],\"pie\":[{\"automargin\":true,\"type\":\"pie\"}]},\"layout\":{\"autotypenumbers\":\"strict\",\"colorway\":[\"#636efa\",\"#EF553B\",\"#00cc96\",\"#ab63fa\",\"#FFA15A\",\"#19d3f3\",\"#FF6692\",\"#B6E880\",\"#FF97FF\",\"#FECB52\"],\"font\":{\"color\":\"#2a3f5f\"},\"hovermode\":\"closest\",\"hoverlabel\":{\"align\":\"left\"},\"paper_bgcolor\":\"white\",\"plot_bgcolor\":\"#E5ECF6\",\"polar\":{\"bgcolor\":\"#E5ECF6\",\"angularaxis\":{\"gridcolor\":\"white\",\"linecolor\":\"white\",\"ticks\":\"\"},\"radialaxis\":{\"gridcolor\":\"white\",\"linecolor\":\"white\",\"ticks\":\"\"}},\"ternary\":{\"bgcolor\":\"#E5ECF6\",\"aaxis\":{\"gridcolor\":\"white\",\"linecolor\":\"white\",\"ticks\":\"\"},\"baxis\":{\"gridcolor\":\"white\",\"linecolor\":\"white\",\"ticks\":\"\"},\"caxis\":{\"gridcolor\":\"white\",\"linecolor\":\"white\",\"ticks\":\"\"}},\"coloraxis\":{\"colorbar\":{\"outlinewidth\":0,\"ticks\":\"\"}},\"colorscale\":{\"sequential\":[[0.0,\"#0d0887\"],[0.1111111111111111,\"#46039f\"],[0.2222222222222222,\"#7201a8\"],[0.3333333333333333,\"#9c179e\"],[0.4444444444444444,\"#bd3786\"],[0.5555555555555556,\"#d8576b\"],[0.6666666666666666,\"#ed7953\"],[0.7777777777777778,\"#fb9f3a\"],[0.8888888888888888,\"#fdca26\"],[1.0,\"#f0f921\"]],\"sequentialminus\":[[0.0,\"#0d0887\"],[0.1111111111111111,\"#46039f\"],[0.2222222222222222,\"#7201a8\"],[0.3333333333333333,\"#9c179e\"],[0.4444444444444444,\"#bd3786\"],[0.5555555555555556,\"#d8576b\"],[0.6666666666666666,\"#ed7953\"],[0.7777777777777778,\"#fb9f3a\"],[0.8888888888888888,\"#fdca26\"],[1.0,\"#f0f921\"]],\"diverging\":[[0,\"#8e0152\"],[0.1,\"#c51b7d\"],[0.2,\"#de77ae\"],[0.3,\"#f1b6da\"],[0.4,\"#fde0ef\"],[0.5,\"#f7f7f7\"],[0.6,\"#e6f5d0\"],[0.7,\"#b8e186\"],[0.8,\"#7fbc41\"],[0.9,\"#4d9221\"],[1,\"#276419\"]]},\"xaxis\":{\"gridcolor\":\"white\",\"linecolor\":\"white\",\"ticks\":\"\",\"title\":{\"standoff\":15},\"zerolinecolor\":\"white\",\"automargin\":true,\"zerolinewidth\":2},\"yaxis\":{\"gridcolor\":\"white\",\"linecolor\":\"white\",\"ticks\":\"\",\"title\":{\"standoff\":15},\"zerolinecolor\":\"white\",\"automargin\":true,\"zerolinewidth\":2},\"scene\":{\"xaxis\":{\"backgroundcolor\":\"#E5ECF6\",\"gridcolor\":\"white\",\"linecolor\":\"white\",\"showbackground\":true,\"ticks\":\"\",\"zerolinecolor\":\"white\",\"gridwidth\":2},\"yaxis\":{\"backgroundcolor\":\"#E5ECF6\",\"gridcolor\":\"white\",\"linecolor\":\"white\",\"showbackground\":true,\"ticks\":\"\",\"zerolinecolor\":\"white\",\"gridwidth\":2},\"zaxis\":{\"backgroundcolor\":\"#E5ECF6\",\"gridcolor\":\"white\",\"linecolor\":\"white\",\"showbackground\":true,\"ticks\":\"\",\"zerolinecolor\":\"white\",\"gridwidth\":2}},\"shapedefaults\":{\"line\":{\"color\":\"#2a3f5f\"}},\"annotationdefaults\":{\"arrowcolor\":\"#2a3f5f\",\"arrowhead\":0,\"arrowwidth\":1},\"geo\":{\"bgcolor\":\"white\",\"landcolor\":\"#E5ECF6\",\"subunitcolor\":\"white\",\"showland\":true,\"showlakes\":true,\"lakecolor\":\"white\"},\"title\":{\"x\":0.05},\"mapbox\":{\"style\":\"light\"}}},\"title\":{\"text\":\"3D-\\u043c\\u043e\\u0434\\u0435\\u043b\\u044c \\u0444\\u043e\\u0440\\u043c\\u0443\\u043b\\u044b \\u0441\\u043f\\u0438\\u0440\\u0430\\u043b\\u0438 PX\"},\"margin\":{\"l\":0,\"r\":0,\"b\":0,\"t\":0}},                        {\"responsive\": true}                    ).then(function(){\n",
       "                            \n",
       "var gd = document.getElementById('ec30ca29-ce2d-4742-90f3-5c58a20574a7');\n",
       "var x = new MutationObserver(function (mutations, observer) {{\n",
       "        var display = window.getComputedStyle(gd).display;\n",
       "        if (!display || display === 'none') {{\n",
       "            console.log([gd, 'removed!']);\n",
       "            Plotly.purge(gd);\n",
       "            observer.disconnect();\n",
       "        }}\n",
       "}});\n",
       "\n",
       "// Listen for the removal of the full notebook cells\n",
       "var notebookContainer = gd.closest('#notebook-container');\n",
       "if (notebookContainer) {{\n",
       "    x.observe(notebookContainer, {childList: true});\n",
       "}}\n",
       "\n",
       "// Listen for the clearing of the current output cell\n",
       "var outputEl = gd.closest('.output');\n",
       "if (outputEl) {{\n",
       "    x.observe(outputEl, {childList: true});\n",
       "}}\n",
       "\n",
       "                        })                };                });            </script>        </div>"
      ]
     },
     "metadata": {},
     "output_type": "display_data"
    },
    {
     "name": "stdout",
     "output_type": "stream",
     "text": [
      "Время построения 3D модели PX = 0.07 секунд\n"
     ]
    }
   ],
   "source": [
    "# -*- coding: utf-8 -*-\n",
    "\"\"\"\n",
    "Код построения 3D модели Plotly\n",
    "\"\"\"\n",
    "import numpy as np\n",
    "import plotly.graph_objs as go\n",
    "import time\n",
    "\n",
    "\n",
    "start_time = time.time()\n",
    "t = np.linspace(0, 20, 100)\n",
    "x, y, z = np.cos(t), np.sin(t), t\n",
    "fig = go.Figure(\n",
    "    data=[\n",
    "        go.Scatter3d(\n",
    "            x=x,\n",
    "            y=y,\n",
    "            z=z,\n",
    "            mode='markers',\n",
    "            marker=dict(\n",
    "                size=12,\n",
    "                color=z,\n",
    "                colorscale='Viridis',\n",
    "                opacity=0.8,\n",
    "            ),\n",
    "        ),\n",
    "    ],\n",
    ")\n",
    "fig.update_layout(title_text='3D-модель формулы спирали PX', margin=dict(l=0, r=0, b=0, t=0))\n",
    "\n",
    "stop_time = time.time()\n",
    "result_time = round(stop_time - start_time, 2)\n",
    "fig.show()\n",
    "print(f'Время построения 3D модели PX = {result_time} секунд')\n"
   ]
  }
 ],
 "metadata": {
  "anaconda-cloud": {},
  "kernelspec": {
   "display_name": "Python 3 (ipykernel)",
   "language": "python",
   "name": "python3"
  },
  "language_info": {
   "codemirror_mode": {
    "name": "ipython",
    "version": 3
   },
   "file_extension": ".py",
   "mimetype": "text/x-python",
   "name": "python",
   "nbconvert_exporter": "python",
   "pygments_lexer": "ipython3",
   "version": "3.12.2"
  },
  "widgets": {
   "application/vnd.jupyter.widget-state+json": {
    "state": {},
    "version_major": 2,
    "version_minor": 0
   }
  }
 },
 "nbformat": 4,
 "nbformat_minor": 4
}
